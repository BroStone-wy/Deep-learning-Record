{
 "cells": [
  {
   "cell_type": "markdown",
   "id": "7a376bd5",
   "metadata": {},
   "source": [
    "## 阶跃函数的实现"
   ]
  },
  {
   "cell_type": "code",
   "execution_count": 2,
   "id": "00b75adc",
   "metadata": {},
   "outputs": [],
   "source": [
    "def step_function(x):\n",
    "    if x>0:\n",
    "        return 1\n",
    "    else:\n",
    "        return 0\n",
    "    \n",
    "def step_function_numpy(x):#改为numpy实现的阶跃函数\n",
    "    y=x>0\n",
    "    return y.astype(np.int)#将bool型改为numpy类型"
   ]
  },
  {
   "cell_type": "code",
   "execution_count": 6,
   "id": "58e6d87b",
   "metadata": {},
   "outputs": [
    {
     "data": {
      "image/png": "[encoded data removed]",
      "text/plain": [
       "<Figure size 432x288 with 1 Axes>"
      ]
     },
     "metadata": {
      "needs_background": "light"
     },
     "output_type": "display_data"
    }
   ],
   "source": [
    "import numpy as np\n",
    "import matplotlib.pylab as plt\n",
    "\n",
    "def step_function(x):\n",
    "    return np.array(x>0,dtype=np.int)\n",
    "x=np.arange(-5.0,5.0,1.0)\n",
    "y=step_function(x)\n",
    "plt.plot(x,y)\n",
    "plt.ylim(-0.1,1.1)#指定y的范围\n",
    "plt.show()"
   ]
  },
  {
   "cell_type": "code",
   "execution_count": 7,
   "id": "3f7ae396",
   "metadata": {},
   "outputs": [],
   "source": [
    "def sigmoid(x):\n",
    "    return 1/(1+np.exp(-x))"
   ]
  },
  {
   "cell_type": "code",
   "execution_count": 8,
   "id": "269c0879",
   "metadata": {},
   "outputs": [
    {
     "data": {
      "image/png": "[encoded data removed]",
      "text/plain": [
       "<Figure size 432x288 with 1 Axes>"
      ]
     },
     "metadata": {
      "needs_background": "light"
     },
     "output_type": "display_data"
    }
   ],
   "source": [
    "x=np.arange(-5.0,5.0,1.0)\n",
    "y=sigmoid(x)\n",
    "plt.plot(x,y)\n",
    "plt.ylim(-0.1,1.1)#指定y的范围\n",
    "plt.show()"
   ]
  },
  {
   "cell_type": "markdown",
   "id": "08225384",
   "metadata": {},
   "source": [
    "### 小结：神经网络的激活函数使用非线性函数，为了发挥叠加层的优势。"
   ]
  },
  {
   "cell_type": "code",
   "execution_count": 10,
   "id": "4f03971a",
   "metadata": {},
   "outputs": [
    {
     "data": {
      "image/png": "[encoded data removed]",
      "text/plain": [
       "<Figure size 432x288 with 1 Axes>"
      ]
     },
     "metadata": {
      "needs_background": "light"
     },
     "output_type": "display_data"
    }
   ],
   "source": [
    "def relu(x):\n",
    "    return np.maximum(0,x)\n",
    "x=np.arange(-6,6,1)\n",
    "y=relu(x)\n",
    "plt.plot(x,y)\n",
    "plt.ylim(-1,5)\n",
    "plt.show()"
   ]
  },
  {
   "cell_type": "markdown",
   "id": "f9e340f1",
   "metadata": {},
   "source": [
    "## 3层神经网络实现，使用Numpy数组高效实现。"
   ]
  },
  {
   "cell_type": "code",
   "execution_count": 17,
   "id": "b3607b8b",
   "metadata": {},
   "outputs": [
    {
     "name": "stdout",
     "output_type": "stream",
     "text": [
      "[0.33098211 0.72778046]\n"
     ]
    }
   ],
   "source": [
    "def init_network():\n",
    "    network={}#network作为字典。\n",
    "    network['W1']=np.array([[0.1,0.3,0.5],[0.2,0.4,0.6]])\n",
    "    network['b1']=np.array([0.1,0.2,0.3])\n",
    "    network['W2']=np.array([[0.1,0.4],[0.2,0.5],[0.3,0.6]])\n",
    "    network['b2']=np.array([0.1,0.2])\n",
    "    network['W3']=np.array([[0.1,0.3],[0.2,0.4]])\n",
    "    network['b3']=np.array([0.1,0.2])\n",
    "    return network\n",
    "\n",
    "def identity_function(x):\n",
    "    return x\n",
    "       \n",
    "def forward(network,x):\n",
    "    W1,W2,W3=network['W1'],network['W2'],network['W3']\n",
    "    b1,b2,b3=network['b1'],network['b2'],network['b3']\n",
    "    a1=np.dot(x,W1)+b1\n",
    "    z1=sigmoid(a1)\n",
    "    a2=np.dot(z1,W2)+b2\n",
    "    z2=sigmoid(a2)\n",
    "    a3=np.dot(z2,W3)+b3\n",
    "    z3=sigmoid(a3)\n",
    "    y=identity_function(a3)\n",
    "    return y\n",
    "\n",
    "network=init_network()\n",
    "x=np.array([1,5])\n",
    "y=forward(network,x)\n",
    "print(y)"
   ]
  },
  {
   "cell_type": "code",
   "execution_count": 13,
   "id": "aa4cd9b6",
   "metadata": {},
   "outputs": [],
   "source": [
    "def softmax(a):\n",
    "    c=np.max(a)\n",
    "    exp_a=np.exp(a-c)\n",
    "    sum_exp_a=np.sum(exp_a)\n",
    "    y=exp_a/sum_exp_a\n",
    "    return y"
   ]
  },
  {
   "cell_type": "markdown",
   "id": "edd0b02b",
   "metadata": {},
   "source": [
    "### 小结：通过减去输入信号中的最大值，避免溢出问题。"
   ]
  }
 ],
 "metadata": {
  "kernelspec": {
   "display_name": "Python 3",
   "language": "python",
   "name": "python3"
  },
  "language_info": {
   "codemirror_mode": {
    "name": "ipython",
    "version": 3
   },
   "file_extension": ".py",
   "mimetype": "text/x-python",
   "name": "python",
   "nbconvert_exporter": "python",
   "pygments_lexer": "ipython3",
   "version": "3.7.5"
  }
 },
 "nbformat": 4,
 "nbformat_minor": 5
}
