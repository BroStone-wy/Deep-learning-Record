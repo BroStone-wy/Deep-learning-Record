{
 "cells": [
  {
   "cell_type": "markdown",
   "id": "a4dfd1ac",
   "metadata": {},
   "source": [
    "## 第六章 神经网络学习相关技巧"
   ]
  },
  {
   "cell_type": "markdown",
   "id": "bc37ced6",
   "metadata": {},
   "source": [
    "### 6.1参数的更新"
   ]
  },
  {
   "cell_type": "code",
   "execution_count": 6,
   "id": "4bd821de",
   "metadata": {},
   "outputs": [],
   "source": [
    "class SGD:#随机梯度法更新权重参数,缺点是低效且梯度方向并没有指向最小的方向。\n",
    "    def _init_(self,lr=0.01):\n",
    "        self.lr=lr\n",
    "        \n",
    "    def update(self,params,grads):\n",
    "        for key in params.keys():\n",
    "            params[key]-=self.lr*grads[key]\n",
    "        "
   ]
  },
  {
   "cell_type": "code",
   "execution_count": 8,
   "id": "bf37b393",
   "metadata": {},
   "outputs": [],
   "source": [
    "class Momentum:#类似于物理中的动量，给予权重减速的效果。\n",
    "    def _init_(self,lr=0.01,momentum=0.9):\n",
    "        self.lr=lr\n",
    "        self.momentum=momentum\n",
    "        self.v=None\n",
    "        \n",
    "    def update(self,params,grads):\n",
    "        if self.v is None:\n",
    "            self.v={}\n",
    "            for key,val in params.items():\n",
    "                self.v[key]=np.zerps_like(val)\n",
    "        for key in params.keys():\n",
    "            self.v[key]=self.momentum*self.v[key]-self.lr*grads[key]\n",
    "            params[key]+=self.v[key]\n",
    "    \n",
    "        "
   ]
  },
  {
   "cell_type": "code",
   "execution_count": 10,
   "id": "6c23a29a",
   "metadata": {},
   "outputs": [
    {
     "ename": "NameError",
     "evalue": "name 'params' is not defined",
     "output_type": "error",
     "traceback": [
      "\u001b[0;31m---------------------------------------------------------------------------\u001b[0m",
      "\u001b[0;31mNameError\u001b[0m                                 Traceback (most recent call last)",
      "\u001b[0;32m/var/folders/39/f_bktdgd1b1d_jjd9jx3n3300000gn/T/ipykernel_73282/4078551550.py\u001b[0m in \u001b[0;36m<module>\u001b[0;34m\u001b[0m\n\u001b[0;32m----> 1\u001b[0;31m \u001b[0;32mclass\u001b[0m \u001b[0mAdaGrad\u001b[0m\u001b[0;34m:\u001b[0m\u001b[0;31m#将不同的学习率分别递减，使变动大的学习率逐渐减小。\u001b[0m\u001b[0;34m\u001b[0m\u001b[0;34m\u001b[0m\u001b[0m\n\u001b[0m\u001b[1;32m      2\u001b[0m     \u001b[0;32mdef\u001b[0m \u001b[0m_init_\u001b[0m\u001b[0;34m(\u001b[0m\u001b[0mself\u001b[0m\u001b[0;34m,\u001b[0m\u001b[0mlr\u001b[0m\u001b[0;34m=\u001b[0m\u001b[0;36m0.01\u001b[0m\u001b[0;34m)\u001b[0m\u001b[0;34m:\u001b[0m\u001b[0;34m\u001b[0m\u001b[0;34m\u001b[0m\u001b[0m\n\u001b[1;32m      3\u001b[0m         \u001b[0mself\u001b[0m\u001b[0;34m.\u001b[0m\u001b[0mlr\u001b[0m\u001b[0;34m=\u001b[0m\u001b[0mlr\u001b[0m\u001b[0;34m\u001b[0m\u001b[0;34m\u001b[0m\u001b[0m\n\u001b[1;32m      4\u001b[0m         \u001b[0mself\u001b[0m\u001b[0;34m.\u001b[0m\u001b[0mh\u001b[0m\u001b[0;34m=\u001b[0m\u001b[0;32mNone\u001b[0m\u001b[0;34m\u001b[0m\u001b[0;34m\u001b[0m\u001b[0m\n\u001b[1;32m      5\u001b[0m \u001b[0;34m\u001b[0m\u001b[0m\n",
      "\u001b[0;32m/var/folders/39/f_bktdgd1b1d_jjd9jx3n3300000gn/T/ipykernel_73282/4078551550.py\u001b[0m in \u001b[0;36mAdaGrad\u001b[0;34m()\u001b[0m\n\u001b[1;32m      9\u001b[0m             \u001b[0;32mfor\u001b[0m \u001b[0mkey\u001b[0m\u001b[0;34m,\u001b[0m\u001b[0mval\u001b[0m \u001b[0;32min\u001b[0m \u001b[0mparams\u001b[0m\u001b[0;34m.\u001b[0m\u001b[0mitems\u001b[0m\u001b[0;34m(\u001b[0m\u001b[0;34m)\u001b[0m\u001b[0;34m:\u001b[0m\u001b[0;34m\u001b[0m\u001b[0;34m\u001b[0m\u001b[0m\n\u001b[1;32m     10\u001b[0m                 \u001b[0mself\u001b[0m\u001b[0;34m.\u001b[0m\u001b[0mh\u001b[0m\u001b[0;34m[\u001b[0m\u001b[0mkey\u001b[0m\u001b[0;34m]\u001b[0m\u001b[0;34m=\u001b[0m\u001b[0mnp\u001b[0m\u001b[0;34m.\u001b[0m\u001b[0mzerps_like\u001b[0m\u001b[0;34m(\u001b[0m\u001b[0mval\u001b[0m\u001b[0;34m)\u001b[0m\u001b[0;34m\u001b[0m\u001b[0;34m\u001b[0m\u001b[0m\n\u001b[0;32m---> 11\u001b[0;31m     \u001b[0;32mfor\u001b[0m \u001b[0mkey\u001b[0m \u001b[0;32min\u001b[0m \u001b[0mparams\u001b[0m\u001b[0;34m.\u001b[0m\u001b[0mkeys\u001b[0m\u001b[0;34m(\u001b[0m\u001b[0;34m)\u001b[0m\u001b[0;34m:\u001b[0m\u001b[0;34m\u001b[0m\u001b[0;34m\u001b[0m\u001b[0m\n\u001b[0m\u001b[1;32m     12\u001b[0m         \u001b[0mself\u001b[0m\u001b[0;34m.\u001b[0m\u001b[0mh\u001b[0m\u001b[0;34m[\u001b[0m\u001b[0mkey\u001b[0m\u001b[0;34m]\u001b[0m\u001b[0;34m+=\u001b[0m\u001b[0mgrads\u001b[0m\u001b[0;34m[\u001b[0m\u001b[0mkey\u001b[0m\u001b[0;34m]\u001b[0m\u001b[0;34m*\u001b[0m\u001b[0mgrads\u001b[0m\u001b[0;34m[\u001b[0m\u001b[0mkey\u001b[0m\u001b[0;34m]\u001b[0m\u001b[0;34m\u001b[0m\u001b[0;34m\u001b[0m\u001b[0m\n\u001b[1;32m     13\u001b[0m         \u001b[0mparams\u001b[0m\u001b[0;34m[\u001b[0m\u001b[0mkey\u001b[0m\u001b[0;34m]\u001b[0m\u001b[0;34m-=\u001b[0m\u001b[0mself\u001b[0m\u001b[0;34m.\u001b[0m\u001b[0mlr\u001b[0m\u001b[0;34m*\u001b[0m\u001b[0mgrads\u001b[0m\u001b[0;34m[\u001b[0m\u001b[0mkey\u001b[0m\u001b[0;34m]\u001b[0m\u001b[0;34m/\u001b[0m\u001b[0;34m(\u001b[0m\u001b[0mnp\u001b[0m\u001b[0;34m.\u001b[0m\u001b[0msqrt\u001b[0m\u001b[0;34m(\u001b[0m\u001b[0mself\u001b[0m\u001b[0;34m.\u001b[0m\u001b[0mh\u001b[0m\u001b[0;34m[\u001b[0m\u001b[0mkey\u001b[0m\u001b[0;34m]\u001b[0m\u001b[0;34m)\u001b[0m\u001b[0;34m+\u001b[0m\u001b[0;36m1e-7\u001b[0m\u001b[0;34m)\u001b[0m\u001b[0;31m#防止除以0。\u001b[0m\u001b[0;34m\u001b[0m\u001b[0;34m\u001b[0m\u001b[0m\n",
      "\u001b[0;31mNameError\u001b[0m: name 'params' is not defined"
     ]
    }
   ],
   "source": [
    "class AdaGrad:#将不同的学习率分别递减，使变动大的学习率逐渐减小。\n",
    "    def _init_(self,lr=0.01):\n",
    "        self.lr=lr\n",
    "        self.h=None\n",
    "        \n",
    "    def update(self,params,grads):\n",
    "        if self.h is None:\n",
    "            self.h={}\n",
    "            for key,val in params.items():\n",
    "                self.h[key]=np.zerps_like(val)\n",
    "    for key in params.keys():\n",
    "        self.h[key]+=grads[key]*grads[key]\n",
    "        params[key]-=self.lr*grads[key]/(np.sqrt(self.h[key])+1e-7)#防止除以0。"
   ]
  },
  {
   "cell_type": "markdown",
   "id": "66a030ef",
   "metadata": {},
   "source": [
    "## 6.2 权重的初始值设定"
   ]
  },
  {
   "cell_type": "markdown",
   "id": "1c037bd2",
   "metadata": {},
   "source": [
    "### 标准差为0.01的随机高斯分布；Xavier初始值，激活函数一般使用sigmoid函数或tanh函数；\n",
    "### He初始值，一般使用Relu函数。"
   ]
  },
  {
   "cell_type": "markdown",
   "id": "94508539",
   "metadata": {},
   "source": [
    "### Batch Norm正则化参数，使数据分布的均值为0，方差为1的正规化。使数据分布拥有适当的广度。\n",
    "### 学习更快的进行。之后再对正规化后的数据进行平移变换，参数可以通过学习调整为适当值。"
   ]
  },
  {
   "cell_type": "markdown",
   "id": "c5d51f16",
   "metadata": {},
   "source": [
    "## 6.3 抑制过拟合"
   ]
  },
  {
   "cell_type": "markdown",
   "id": "4e20f256",
   "metadata": {},
   "source": [
    "### 权值衰减：为损失函数加上权重的平方范数，意在学习过程中对去权值较大的参数惩罚抑制过拟合。\n",
    "### Dropout：学习过程中随机删除神经元，测试时，对于神经元处理，乘以训练时的删除比例再输出。"
   ]
  },
  {
   "cell_type": "code",
   "execution_count": 11,
   "id": "2f0c9c8f",
   "metadata": {},
   "outputs": [],
   "source": [
    "class Dropout:\n",
    "    def _init_(self,dropout_ratio=0.5):\n",
    "        self.dropout_ratio=dropout_ratio\n",
    "        self.mask=None\n",
    "    def forward(self,x,train_flg=True):\n",
    "        if train_flg:\n",
    "            self.mask=np.random.rand(*x.shape)>self.dropout_ratio\n",
    "            return x*self.mask\n",
    "        else:\n",
    "            return x*(1-self.dropout_ratio)\n",
    "    def backward(self,dout):\n",
    "        return dout*self.mask"
   ]
  },
  {
   "cell_type": "code",
   "execution_count": null,
   "id": "e4b64075",
   "metadata": {},
   "outputs": [],
   "source": []
  }
 ],
 "metadata": {
  "kernelspec": {
   "display_name": "Python 3 (ipykernel)",
   "language": "python",
   "name": "python3"
  },
  "language_info": {
   "codemirror_mode": {
    "name": "ipython",
    "version": 3
   },
   "file_extension": ".py",
   "mimetype": "text/x-python",
   "name": "python",
   "nbconvert_exporter": "python",
   "pygments_lexer": "ipython3",
   "version": "3.9.5"
  }
 },
 "nbformat": 4,
 "nbformat_minor": 5
}
