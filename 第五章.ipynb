{
 "cells": [
  {
   "cell_type": "markdown",
   "id": "eb20292b",
   "metadata": {},
   "source": [
    "## 第五章 误差反向传播法"
   ]
  },
  {
   "cell_type": "markdown",
   "id": "932c00eb",
   "metadata": {},
   "source": [
    "1、正向传播与反向传播的特点与区别：正向传播将结果从左往右传播，反向传播将局部的导数从沿正方向的反向传播。\n",
    "2、反向传播遵循链式的求导法则，并且分为加法节点和乘法节点，加法节点导数为1，反向传播只乘1；乘法节点乘以节点另一侧对应的导数。"
   ]
  },
  {
   "cell_type": "code",
   "execution_count": 7,
   "id": "01ee3edc",
   "metadata": {},
   "outputs": [],
   "source": [
    "class  Mullayer:#将乘法层实现为一类。\n",
    "    def __init__(self):#用于记录保存正向传播的输入值。\n",
    "        self.x=None\n",
    "        self.y=None\n",
    "        \n",
    "    def forward(self,x,y):\n",
    "        self.x=x\n",
    "        self.y=y\n",
    "        out=x*y\n",
    "        \n",
    "        return out\n",
    "    \n",
    "    def backward(self,dout):\n",
    "        dx=dout*self.y\n",
    "        dy=dout*self.x\n",
    "        \n",
    "        return dx,dy\n",
    "    \n",
    "class Addlayer:#加法层的实现\n",
    "    def __init__(self):\n",
    "        pass\n",
    "    \n",
    "    def forward(self,x,y):\n",
    "        out=x+y\n",
    "        return out\n",
    "    def backward(self,dout):\n",
    "        dx=dout*1\n",
    "        dy=dout*1\n",
    "        return dx,dy\n",
    "    \n",
    "    \n",
    "    \n"
   ]
  },
  {
   "cell_type": "code",
   "execution_count": 9,
   "id": "4867b76e",
   "metadata": {},
   "outputs": [
    {
     "name": "stdout",
     "output_type": "stream",
     "text": [
      "2.2 200 2.2 110.00000000000001\n"
     ]
    }
   ],
   "source": [
    "apple=100;#forward\n",
    "apple_num=2;\n",
    "tax=1.1;\n",
    "apple_mullayer=Mullayer()\n",
    "tax_mullayer=Mullayer()\n",
    "\n",
    "apple_price=apple_mullayer.forward(apple,apple_num)\n",
    "price=tax_mullayer.forward(apple_price,tax)\n",
    "\n",
    "\n",
    "dprice=1#backward\n",
    "dapple,dtax=tax_mullayer.backward(dprice)\n",
    "dapple,dnum=apple_mullayer.backward(dapple)\n",
    "print(dapple,dtax,dapple,dnum)"
   ]
  },
  {
   "cell_type": "markdown",
   "id": "ad37b34b",
   "metadata": {},
   "source": [
    "## 激活函数层的实现"
   ]
  },
  {
   "cell_type": "code",
   "execution_count": 2,
   "id": "e013af39",
   "metadata": {},
   "outputs": [],
   "source": [
    "class Relu:\n",
    "    def _init_(self):\n",
    "        self.mask=None\n",
    "        \n",
    "    def forward(self,x):\n",
    "        self.mask=(x<=0)\n",
    "        out=x.copy()#将x的列表复制了一次，内容同x的一致\n",
    "        out[self.mask]=0#将为Ture的标记为0\n",
    "        \n",
    "        return out\n",
    "    def backward(self,dout):\n",
    "        dout[self.mask]=0\n",
    "        dx=dout\n",
    "        \n",
    "        return dx"
   ]
  },
  {
   "cell_type": "code",
   "execution_count": 8,
   "id": "6fec9e30",
   "metadata": {
    "scrolled": true
   },
   "outputs": [],
   "source": [
    "class sigmoid:\n",
    "    def _init_(self):\n",
    "        self.out=None\n",
    "    def forward(self,x):\n",
    "        out=1/(1+np.exp(-x))\n",
    "        self.out=out\n",
    "        \n",
    "        return out\n",
    "    def backward(self,dout):\n",
    "        dx=dout*(1-self.out)*self.out\n",
    "        \n",
    "        return dx\n",
    "    \n",
    "        \n"
   ]
  },
  {
   "cell_type": "code",
   "execution_count": 10,
   "id": "73f5b369",
   "metadata": {},
   "outputs": [],
   "source": [
    "class Affine:\n",
    "    def _init_(self,w,b):\n",
    "        self.w=w\n",
    "        self.b=b\n",
    "        self.x=None\n",
    "        self.dw=None\n",
    "        self.db=None\n",
    "    def forward(self,x):\n",
    "        self.x=x\n",
    "        out=np.dot(x,self.w)+self.b\n",
    "        \n",
    "        return out\n",
    "    def backward(self,dout):\n",
    "        dx=np.dot(dout,self.w.T)\n",
    "        self.dw=np.dot(self.x.T,dout)\n",
    "        self.db=np.sum(dout,axis=0)#按行项求和\n",
    "        \n",
    "        return dx"
   ]
  },
  {
   "cell_type": "markdown",
   "id": "5722d865",
   "metadata": {},
   "source": [
    "## Softmax-with-Loss层，利用softmax输出之后，计算交叉熵误差，可以得到反向传播满意的结果，即输出与监督标签的误差。从而进行反馈。"
   ]
  },
  {
   "cell_type": "code",
   "execution_count": 11,
   "id": "3f45dab3",
   "metadata": {},
   "outputs": [],
   "source": [
    "class SoftmaxwithLoss:\n",
    "    def _init_(self):\n",
    "        self.loss=None\n",
    "        self.y=None\n",
    "        self.t=None\n",
    "    def forward(self,x,t):\n",
    "        self.t=t\n",
    "        self.y=softmax(x)\n",
    "        self.loss=cross_entropy_loss(self.y,self.t)\n",
    "        \n",
    "        return self.loss\n",
    "    def backward(self,dout=1):\n",
    "        batch_size=self.t.shape[0]\n",
    "        dx=(self.y-self.t)/batch_size#传给前边是单个数据的误差，因此除以批量大小。\n",
    "        return dx"
   ]
  },
  {
   "cell_type": "code",
   "execution_count": null,
   "id": "f1cf807f",
   "metadata": {},
   "outputs": [],
   "source": []
  }
 ],
 "metadata": {
  "kernelspec": {
   "display_name": "Python 3 (ipykernel)",
   "language": "python",
   "name": "python3"
  },
  "language_info": {
   "codemirror_mode": {
    "name": "ipython",
    "version": 3
   },
   "file_extension": ".py",
   "mimetype": "text/x-python",
   "name": "python",
   "nbconvert_exporter": "python",
   "pygments_lexer": "ipython3",
   "version": "3.9.5"
  }
 },
 "nbformat": 4,
 "nbformat_minor": 5
}
